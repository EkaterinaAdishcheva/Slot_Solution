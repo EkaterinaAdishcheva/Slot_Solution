{
 "cells": [
  {
   "cell_type": "markdown",
   "metadata": {},
   "source": [
    "### Task\n",
    "Create a slot game with requirements:\n",
    "* 3 reels, 3 rows, 5 symbols (“1”, “2”, “3”, “4”, “5”) and 5 paylines,\n",
    "* RTP equals to 95.0%,\n",
    "* Hit rate should be as high as possible."
   ]
  },
  {
   "cell_type": "markdown",
   "metadata": {},
   "source": [
    "### Solution\n",
    "\n",
    "$$\\mathbf{Hit \\ Rate} = \\frac{\\mathbf{Win \\ Games}}{\\mathbf{Total \\ Games}}$$\n",
    "\n",
    "$$\\mathbf{RTP} = \\frac{\\mathbf{Total \\ Wins}}{\\mathbf{Total \\ Bets}} \\ge \\frac{\\mathbf{Win \\ Games} \\ \\cdot \\ 2}{\\mathbf{Total \\ Bets}} = 2 \\cdot \\mathbf{Hit \\ Rate}$$\n",
    "$$\\mathbf{Hit \\ Rate} \\le \\frac{1}{2}\\mathbf{RTP} = \\frac{95\\%}{2} = 47.5\\%$$"
   ]
  },
  {
   "cell_type": "markdown",
   "metadata": {},
   "source": [
    "The game achieves its highest Hit Rate when winning spins yield only the smallest wins possible. Therefore, in a game where each win equals 2 (representing one payline of \"1\"), the optimal scenario is to have a win on every payline.\n",
    "\n",
    "47.5% of games should feature only one winning payline, while the remaining games should have no winning paylines at all."
   ]
  },
  {
   "cell_type": "markdown",
   "metadata": {},
   "source": [
    "To achieve this, we need to design the reels to generate grids with either one or no paylines. The configurations for the first and second reels are [1, 2, 2] and [1, 3, 3] respectively.\n",
    "\n",
    "With a probability of $\\frac{5}{9}$, the symbols on the first two reels land on positions corresponding to the first two positions of the paylines.\n",
    "\n",
    "$$p_3 \\cdot \\frac{5}{9} = 47.5\\%$$"
   ]
  },
  {
   "cell_type": "markdown",
   "metadata": {},
   "source": [
    "\n",
    "To ensure a Hit Rate of $47.5\\%$, the third element of the payline should be set to one with a probability of $(47.5\\% * \\frac{9}{5} = \\frac{171}{200})$. Therefore, in the third reel, out of 200 elements, 171 should be ones and 29 should be fours."
   ]
  },
  {
   "cell_type": "markdown",
   "metadata": {},
   "source": [
    "$$\\mathbf{RTP} = 47.5\\% \\cdot 2 = 95\\%$$\n",
    "$$\\mathbf{Hit \\ Rate} = 47.5\\% $$\n",
    "$$\\mathbf{Var} = 47.5\\% \\cdot (2-0.95)^2 + 52.5\\% \\cdot (0.95)^2 = 0.9975$$\n",
    "$$\\mathbf{\\sigma} = \\sqrt{47.5\\% \\cdot (2-0.95)^2 + 52.5\\% \\cdot (0.95)^2} = 0.99875$$\n",
    "\n"
   ]
  },
  {
   "cell_type": "markdown",
   "metadata": {},
   "source": [
    "The reels have no five symbol, to add fives replace the first reel with [1, 2, 5]."
   ]
  },
  {
   "cell_type": "markdown",
   "metadata": {},
   "source": [
    "### Simulator\n",
    "\n",
    "File:   `simulator.html` \n",
    "\n",
    "All metrics are calculated based on simulations.\n",
    "The spin is possible even with negative balance. "
   ]
  }
 ],
 "metadata": {
  "kernelspec": {
   "display_name": "base",
   "language": "python",
   "name": "python3"
  },
  "language_info": {
   "codemirror_mode": {
    "name": "ipython",
    "version": 3
   },
   "file_extension": ".py",
   "mimetype": "text/x-python",
   "name": "python",
   "nbconvert_exporter": "python",
   "pygments_lexer": "ipython3",
   "version": "3.11.4"
  }
 },
 "nbformat": 4,
 "nbformat_minor": 2
}
